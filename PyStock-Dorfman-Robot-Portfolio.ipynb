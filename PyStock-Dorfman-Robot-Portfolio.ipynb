{
 "cells": [
  {
   "cell_type": "code",
   "execution_count": 17,
   "metadata": {
    "collapsed": true
   },
   "outputs": [],
   "source": [
    "import pandas as pd\n",
    "import numpy as np"
   ]
  },
  {
   "cell_type": "code",
   "execution_count": 18,
   "metadata": {
    "collapsed": true
   },
   "outputs": [],
   "source": [
    "%%bash \n",
    "\n",
    "# Crawl information from pystock data\n",
    "wget -q -r -nH -nd -np -R index.* -P pystock/ http://data.pystock.com/2017/"
   ]
  },
  {
   "cell_type": "code",
   "execution_count": 19,
   "metadata": {
    "collapsed": true
   },
   "outputs": [],
   "source": [
    "%%bash\n",
    "\n",
    "# Pull symbols and prices from the last data set\n",
    "latest=`ls -t pystock/*.tar.gz | tail -n1`\n",
    "tar --extract --file=$latest symbols.txt && mv symbols.txt pystock/symbols.csv\n",
    "tar --extract --file=$latest prices.csv && mv prices.csv pystock/prices.csv"
   ]
  },
  {
   "cell_type": "code",
   "execution_count": 20,
   "metadata": {
    "collapsed": true
   },
   "outputs": [],
   "source": [
    "%%bash\n",
    "\n",
    "# Create a temporary directory\n",
    "mkdir -p pystock/reports && rm -rf pystock/reports/*.csv\n",
    "\n",
    "# Extract all reports to one directory\n",
    "for file in pystock/*.tar.gz; do\n",
    "    filename=$(basename $file)\n",
    "    target=\"pystock/reports/${filename%%.*}.csv\"\n",
    "    tar --extract --file=$file reports.csv && mv reports.csv $target\n",
    "done\n",
    "\n",
    "# Drop empty report files and merge all reports into a single csv file\n",
    "find pystock/reports/ -size  0 -print0 | xargs -0 rm\n",
    "awk 'FNR==1 && NR!=1{next;}{print}' pystock/reports/*.csv > pystock/reports.csv\n",
    "\n",
    "# Delete temporary files\n",
    "rm -rf pystock/reports/"
   ]
  },
  {
   "cell_type": "code",
   "execution_count": 21,
   "metadata": {},
   "outputs": [],
   "source": [
    "# Load symbols\n",
    "symbols = pd.read_csv('pystock/symbols.csv', sep='\\t', \n",
    "                      header=None, names=['symbol', 'company'])"
   ]
  },
  {
   "cell_type": "code",
   "execution_count": 22,
   "metadata": {},
   "outputs": [],
   "source": [
    "# Load stock prices\n",
    "prices = pd.read_csv('pystock/prices.csv').drop_duplicates()\n",
    "\n",
    "# Drop NaN values from the prices\n",
    "prices = prices.dropna()\n",
    "\n",
    "# By default, portfolio will be calculated according to the last day\n",
    "# which is available by the dataset.\n",
    "max_date = max(prices.date) # max_date = '2017-01-02'\n",
    "\n",
    "# Keep only closing price for last date\n",
    "prices = prices[prices.date == max_date].reset_index(drop=True)\n",
    "\n",
    "# Drop non relevant columns\n",
    "prices = prices[['symbol', 'adj_close', 'volume']]"
   ]
  },
  {
   "cell_type": "code",
   "execution_count": 23,
   "metadata": {
    "collapsed": true
   },
   "outputs": [],
   "source": [
    "# load reports\n",
    "reports = pd.read_csv('pystock/reports.csv').drop_duplicates()\n",
    "\n",
    "# filter reports that were published after our current date\n",
    "reports = reports[reports.end_date <= max_date]\n",
    "\n",
    "# filter in only 10-K reports\n",
    "reports = reports[reports.doc_type == '10-K']\n",
    "\n",
    "# select most up to date report\n",
    "reports = reports\\\n",
    "    .sort_values(['end_date'], ascending = False)\\\n",
    "    .groupby('symbol', as_index=False)\\\n",
    "    .first()\n",
    "\n",
    "# drop non relevant columns\n",
    "reports = reports[['symbol', \n",
    "                   'assets', \n",
    "                   'net_income', \n",
    "                   'cur_liab',\n",
    "                   'eps_basic',\n",
    "                   'equity', \n",
    "                   'end_date']]\n",
    "\n",
    "# fill NaN values from the prices\n",
    "reports.fillna(0, inplace=True)"
   ]
  },
  {
   "cell_type": "code",
   "execution_count": 24,
   "metadata": {},
   "outputs": [
    {
     "data": {
      "text/plain": [
       "3014"
      ]
     },
     "execution_count": 24,
     "metadata": {},
     "output_type": "execute_result"
    }
   ],
   "source": [
    "len(reports)"
   ]
  },
  {
   "cell_type": "code",
   "execution_count": 25,
   "metadata": {
    "collapsed": true
   },
   "outputs": [],
   "source": [
    "# join stock prices and symbol names\n",
    "prices = pd.merge(prices, symbols, on=['symbol'])\n",
    "\n",
    "# join stock prices and company reports\n",
    "stocks = pd.merge(reports, prices, on=['symbol'], how='left')"
   ]
  },
  {
   "cell_type": "code",
   "execution_count": 26,
   "metadata": {
    "collapsed": true
   },
   "outputs": [],
   "source": [
    "# drop NaN values\n",
    "stocks = stocks.dropna()\n",
    "\n",
    "# \" .. start with the universe of U.S. stocks with a market value of $500 million or more.\"\n",
    "stocks = stocks[stocks.assets > 500000000]\n",
    "\n",
    "# \" .. eliminate those with losses in the trailing 12 months.\"\n",
    "stocks = stocks[stocks.net_income > 0]\n",
    "\n",
    "# \" .. knock out those with debt greater than stockholders’ equity (to reduce risk).\"\n",
    "stocks = stocks[stocks.cur_liab < stocks.equity]\n",
    "\n",
    "# PE calculation\n",
    "with np.errstate(divide='ignore'):\n",
    "    stocks = stocks[stocks.eps_basic > 0]\n",
    "    stocks['pe'] = np.divide(stocks['adj_close'], stocks['eps_basic'])"
   ]
  },
  {
   "cell_type": "code",
   "execution_count": 27,
   "metadata": {},
   "outputs": [
    {
     "data": {
      "text/plain": [
       "1285"
      ]
     },
     "execution_count": 27,
     "metadata": {},
     "output_type": "execute_result"
    }
   ],
   "source": [
    "# \" ... that usually leaves about 1,000 stocks to pick from.\"\n",
    "len(stocks)"
   ]
  },
  {
   "cell_type": "code",
   "execution_count": 28,
   "metadata": {
    "collapsed": true
   },
   "outputs": [],
   "source": [
    "# \" ... By computer, without exercising judgment, I then select the 10 stocks \n",
    "# with the lowest ratio of stock price to the company’s earnings over the past four quarters. \"\n",
    "portfolio = stocks.nsmallest(10, 'pe')"
   ]
  },
  {
   "cell_type": "code",
   "execution_count": 29,
   "metadata": {},
   "outputs": [
    {
     "name": "stdout",
     "output_type": "stream",
     "text": [
      "--------  Portfolio -------------------------------------------- \n",
      "-----    Date: 2017-03-31     ----------------------------------\n",
      "---------------------------------------------------------------- \n",
      "     symbol                                     company\n",
      "954    ERIE                      Erie Indemnity Company\n",
      "1324   HONE                           HarborOne Bancorp\n",
      "578     CIK  Credit Suisse Asset Management Income Fund\n",
      "2580    SXC                              SunCoke Energy\n",
      "277    AVHI                                   A V Homes\n",
      "969     ESV                                   ENSCO plc\n",
      "454    CACQ                 Caesars Acquisition Company\n",
      "1762   MMAC                      MMA Capital Management\n",
      "1409    IMH                     Impac Mortgage Holdings\n",
      "1665    LXU                         Lsb Industries Inc.\n"
     ]
    }
   ],
   "source": [
    "# \".. I don’t like all the stocks this paradigm singles out, by any means. \n",
    "# But I have found this field to be fertile ground for investigation, \n",
    "# and have often bought stocks that came to my attention through this paradigm.\"\n",
    "print '--------  Portfolio -------------------------------------------- '\n",
    "print '-----    Date: {0}     ----------------------------------'.format(max_date)\n",
    "print '---------------------------------------------------------------- '\n",
    "print portfolio[['symbol', 'company']]"
   ]
  }
 ],
 "metadata": {
  "kernelspec": {
   "display_name": "Python 2",
   "language": "python",
   "name": "python2"
  },
  "language_info": {
   "codemirror_mode": {
    "name": "ipython",
    "version": 2
   },
   "file_extension": ".py",
   "mimetype": "text/x-python",
   "name": "python",
   "nbconvert_exporter": "python",
   "pygments_lexer": "ipython2",
   "version": "2.7.11"
  }
 },
 "nbformat": 4,
 "nbformat_minor": 2
}
